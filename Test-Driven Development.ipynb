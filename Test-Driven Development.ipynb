{
 "cells": [
  {
   "cell_type": "markdown",
   "id": "8d91f65e-47d8-4345-8044-91601b9d2545",
   "metadata": {},
   "source": [
    "### Introduction\n",
    "#### In this project, we aim to streamline data access and storage by building two reusable components: an <b>AlphaVantageAPI class</b> to interact efficiently with the API and a <b>SQLRepository class</b> to load and extract stock data from a SQLite database. Using <b>Test-Driven Development (TDD)</b>, we’ll integrate assert statements to validate functionality at every step, ensuring robust, scalable, and error-free code that lays a strong foundation for future application development."
   ]
  },
  {
   "cell_type": "code",
   "execution_count": 1,
   "id": "11ec876c-38a8-42ce-ba58-00bddf21b16a",
   "metadata": {},
   "outputs": [],
   "source": [
    "%load_ext autoreload\n",
    "%load_ext sql\n",
    "%autoreload 2\n",
    "\n",
    "import sqlite3\n",
    "import matplotlib.pyplot as plt\n",
    "import pandas as pd\n",
    "from config import settings"
   ]
  },
  {
   "cell_type": "markdown",
   "id": "1d013f32-253c-4e12-8b57-95816ec09bf1",
   "metadata": {},
   "source": [
    "### Building Our Data Module\n",
    "##### For our application, we're going to keep all the classes we use to extract, transform, and load data in a single module that we'll call <b>data</b>."
   ]
  },
  {
   "cell_type": "markdown",
   "id": "1d40a754-ad52-4461-9333-32d01c6fd543",
   "metadata": {},
   "source": [
    "## <b>AlphaVantage API Class</b>"
   ]
  },
  {
   "cell_type": "markdown",
   "id": "15ca4d71-cca7-4e04-b8ea-429558a4fc33",
   "metadata": {},
   "source": [
    "##### To build on our previous GitHub project, <b><i>\"Getting Data from APIs,\"</i></b> we’ll now enhance the code by organizing it into a reusable class focused on retrieving data from the AlphaVantage API.\n",
    "##### In the data module, define a class named <b>AlphaVantageAPI</b> with an <b>__init__</b> method that sets your API key as the <b>__api_key</b> attribute. Once completed, import the class and create an instance named <b>av</b>."
   ]
  },
  {
   "cell_type": "code",
   "execution_count": 2,
   "id": "a4c92b83-7ba0-4bda-b84e-f461cff19cbf",
   "metadata": {},
   "outputs": [
    {
     "name": "stdout",
     "output_type": "stream",
     "text": [
      "av type: <class 'data.AlphaVantageAPI'>\n"
     ]
    }
   ],
   "source": [
    "# Import `AlphaVantageAPI from data module`\n",
    "from data import AlphaVantageAPI\n",
    "\n",
    "# Create instance of `AlphaVantageAPI` class\n",
    "av = AlphaVantageAPI()\n",
    "\n",
    "print(\"av type:\", type(av))\n"
   ]
  },
  {
   "cell_type": "markdown",
   "id": "bbd65d0c-cc36-4ad0-9732-4157773105cc",
   "metadata": {},
   "source": [
    "### AlphaVantageAPI: Get_daily Method\n",
    "##### We will enhance the <b>AlphaVantageAPI</b> class by adding a <b>get_daily</b> method to retrieve daily stock data. Using this new method, we will fetch the stock data for the renewable energy company <b><a href=\"https://www.suzlon.com/\">Suzlon</a></b> and store it in a DataFrame called <b>df_suzlon</b>."
   ]
  },
  {
   "cell_type": "code",
   "execution_count": 3,
   "id": "1ed896c3-c1aa-4216-8968-c45efc57460f",
   "metadata": {},
   "outputs": [
    {
     "name": "stdout",
     "output_type": "stream",
     "text": [
      "df_suzlon shape: (4750, 5)\n"
     ]
    },
    {
     "data": {
      "text/html": [
       "<div>\n",
       "<style scoped>\n",
       "    .dataframe tbody tr th:only-of-type {\n",
       "        vertical-align: middle;\n",
       "    }\n",
       "\n",
       "    .dataframe tbody tr th {\n",
       "        vertical-align: top;\n",
       "    }\n",
       "\n",
       "    .dataframe thead th {\n",
       "        text-align: right;\n",
       "    }\n",
       "</style>\n",
       "<table border=\"1\" class=\"dataframe\">\n",
       "  <thead>\n",
       "    <tr style=\"text-align: right;\">\n",
       "      <th></th>\n",
       "      <th>open</th>\n",
       "      <th>high</th>\n",
       "      <th>low</th>\n",
       "      <th>close</th>\n",
       "      <th>volume</th>\n",
       "    </tr>\n",
       "    <tr>\n",
       "      <th>date</th>\n",
       "      <th></th>\n",
       "      <th></th>\n",
       "      <th></th>\n",
       "      <th></th>\n",
       "      <th></th>\n",
       "    </tr>\n",
       "  </thead>\n",
       "  <tbody>\n",
       "    <tr>\n",
       "      <th>2025-01-24</th>\n",
       "      <td>54.99</td>\n",
       "      <td>54.99</td>\n",
       "      <td>52.13</td>\n",
       "      <td>52.56</td>\n",
       "      <td>9310880.0</td>\n",
       "    </tr>\n",
       "    <tr>\n",
       "      <th>2025-01-23</th>\n",
       "      <td>55.17</td>\n",
       "      <td>56.61</td>\n",
       "      <td>54.21</td>\n",
       "      <td>54.32</td>\n",
       "      <td>5161131.0</td>\n",
       "    </tr>\n",
       "    <tr>\n",
       "      <th>2025-01-22</th>\n",
       "      <td>57.18</td>\n",
       "      <td>57.86</td>\n",
       "      <td>54.58</td>\n",
       "      <td>55.15</td>\n",
       "      <td>5873424.0</td>\n",
       "    </tr>\n",
       "    <tr>\n",
       "      <th>2025-01-21</th>\n",
       "      <td>58.26</td>\n",
       "      <td>58.48</td>\n",
       "      <td>56.36</td>\n",
       "      <td>57.45</td>\n",
       "      <td>4473273.0</td>\n",
       "    </tr>\n",
       "    <tr>\n",
       "      <th>2025-01-20</th>\n",
       "      <td>57.84</td>\n",
       "      <td>58.76</td>\n",
       "      <td>56.15</td>\n",
       "      <td>58.13</td>\n",
       "      <td>3760910.0</td>\n",
       "    </tr>\n",
       "  </tbody>\n",
       "</table>\n",
       "</div>"
      ],
      "text/plain": [
       "             open   high    low  close     volume\n",
       "date                                             \n",
       "2025-01-24  54.99  54.99  52.13  52.56  9310880.0\n",
       "2025-01-23  55.17  56.61  54.21  54.32  5161131.0\n",
       "2025-01-22  57.18  57.86  54.58  55.15  5873424.0\n",
       "2025-01-21  58.26  58.48  56.36  57.45  4473273.0\n",
       "2025-01-20  57.84  58.76  56.15  58.13  3760910.0"
      ]
     },
     "execution_count": 3,
     "metadata": {},
     "output_type": "execute_result"
    }
   ],
   "source": [
    "# Define Suzlon ticker symbol\n",
    "ticker = \"SUZLON.BSE\"\n",
    "\n",
    "# Use your `av` object to get daily data\n",
    "df_suzlon = av.get_daily(ticker=ticker)\n",
    "\n",
    "print(\"df_suzlon shape:\", df_suzlon.shape)\n",
    "df_suzlon.head()"
   ]
  },
  {
   "cell_type": "markdown",
   "id": "709ad7c4-2bf7-4e13-a19e-2ed8aeba9f0d",
   "metadata": {},
   "source": [
    "### Next, we will test the newly implemented method to ensure it functions as intended. While tests are typically written prior to developing the method, in this instance, we’ll reverse the process to better understand how assert statements operate."
   ]
  },
  {
   "cell_type": "markdown",
   "id": "ed70deda-16e4-4955-8691-87ab0be95505",
   "metadata": {},
   "source": [
    "### AlphaVantageAPI: Testing Get_daily Method\n",
    "##### To ensure the reliability of the <b>get_daily</b> method, we will implement six key assert statements to validate its output: <br> 1. Confirm that the method returns a DataFrame.<br> 2. Verify the DataFrame contains exactly five columns.<br> 3. Check that the DataFrame utilizes a DatetimeIndex.<br> 4. Ensure the index is appropriately named \"date.\"<br> 5. Validate that the column names are correct.<br> 6. Confirm that all columns have the correct data types."
   ]
  },
  {
   "cell_type": "code",
   "execution_count": 4,
   "id": "9385e600-b428-411e-b4c2-2b7171346fa5",
   "metadata": {},
   "outputs": [],
   "source": [
    "# Does `get_daily` return a DataFrame?\n",
    "assert isinstance(df_suzlon, pd.DataFrame)\n",
    "\n",
    "# Does DataFrame have 5 columns?\n",
    "assert df_suzlon.shape[1] ==5\n",
    "\n",
    "# Does DataFrame have a DatetimeIndex?\n",
    "assert isinstance(df_suzlon.index, pd.DatetimeIndex)\n",
    "\n",
    "# Is the index name \"date\"?\n",
    "assert df_suzlon.index.name ==\"date\"\n",
    "\n",
    "# Does DataFrame have correct column names?\n",
    "assert df_suzlon.columns.to_list() == ['open', 'high', 'low', 'close', 'volume']\n",
    "# OR assert all(df_suzlon.columns == ['open', 'high', 'low', 'close', 'volume'])\n",
    "\n",
    "# Are columns correct data type?\n",
    "assert all(df_suzlon.dtypes ==\"float\")"
   ]
  },
  {
   "cell_type": "markdown",
   "id": "28b745ab-3914-4621-acba-a2d01d5b6a3e",
   "metadata": {},
   "source": [
    "### Great! With the <b>AlphaVantageAPI class</b> now fully prepared to fetch data, our next step is to shift focus to building a class that will allow us to efficiently store this data in our SQLite database."
   ]
  },
  {
   "cell_type": "markdown",
   "id": "053b00df-d759-45a0-bdd1-a30b0d8e745a",
   "metadata": {},
   "source": [
    "## <b>SQL Repository Class</b>"
   ]
  },
  {
   "cell_type": "markdown",
   "id": "efee866d-6be4-441c-86b6-cd456b42282d",
   "metadata": {},
   "source": [
    "##### To ensure efficiency, our application should not rely on fetching data from the AlphaVantage API every time we need to analyze it or build models. Instead, we’ll store the data in a structured database. Given the consistent structure of the DataFrames retrieved from AlphaVantage (with the same five columns), a SQL database is the ideal choice. For this project, we’ll use SQLite, and for uniformity, the database will always have the same name, which we’ve conveniently stored in our <b>config.py</b> module."
   ]
  },
  {
   "cell_type": "markdown",
   "id": "3f467243-984f-434c-bcd2-3abb5fb88593",
   "metadata": {},
   "source": [
    "### Connect to Database\n",
    "##### Establish a connection to the database specified in the <b>config.py</b> file for this project. Ensure that the <b>check_same_thread</b> argument is set to <b>False</b> for proper functionality. Assign this connection to the variable <b>connection</b>."
   ]
  },
  {
   "cell_type": "code",
   "execution_count": 6,
   "id": "be081086-0f1c-4294-abc2-dab0faba48d9",
   "metadata": {},
   "outputs": [
    {
     "data": {
      "text/plain": [
       "'stocks.sqlite'"
      ]
     },
     "execution_count": 6,
     "metadata": {},
     "output_type": "execute_result"
    }
   ],
   "source": [
    "settings.db_name"
   ]
  },
  {
   "cell_type": "code",
   "execution_count": 5,
   "id": "46bedf30-d228-4770-965e-892d71f915b3",
   "metadata": {},
   "outputs": [
    {
     "name": "stdout",
     "output_type": "stream",
     "text": [
      "connection type: <class 'sqlite3.Connection'>\n"
     ]
    }
   ],
   "source": [
    "connection = sqlite3.connect(database=settings.db_name, check_same_thread=False)\n",
    "\n",
    "print(\"connection type:\", type(connection))"
   ]
  },
  {
   "cell_type": "markdown",
   "id": "ea921cf6-7950-4002-abae-0b3b30ff5b80",
   "metadata": {},
   "source": [
    "### With the database connection established, the next step is to design a class that will manage all interactions with the database. For this class, we will take a test-driven approach by creating the tests first before defining the class itself."
   ]
  },
  {
   "cell_type": "markdown",
   "id": "e1f33208-7231-4b49-90e8-cec822d8d42a",
   "metadata": {},
   "source": [
    "### SQLRepository: Write Tests\n",
    "##### Develop two tests to validate the functionality of the <b>SQLRepository</b> class based on the following criteria:<br> 1. Import the class definition and create an instance of the class.<br> 2. Verify that the instance includes a \"connection\" attribute.<br> 3. Confirm that the \"connection\" attribute is of the SQLite <b>Connection</b> type."
   ]
  },
  {
   "cell_type": "code",
   "execution_count": 6,
   "id": "584392dc-6856-48d3-82a9-9345c427f1d9",
   "metadata": {},
   "outputs": [],
   "source": [
    "# Import class definition\n",
    "from data import SQLRepository\n",
    "\n",
    "# Create instance of class\n",
    "repo = SQLRepository(connection=connection)\n",
    "\n",
    "# Does `repo` have a \"connection\" attribute?\n",
    "assert hasattr(repo, \"connection\")\n",
    "\n",
    "# Is the \"connection\" attribute a SQLite `Connection`?\n",
    "assert isinstance(repo.connection, sqlite3.Connection)"
   ]
  },
  {
   "cell_type": "markdown",
   "id": "ab6457f3-9858-4bfa-b13f-dd1386474f4a",
   "metadata": {},
   "source": [
    "Create a definition for your `SQLRepository` class. For now, just complete the `__init__` method. Once you're done, use the code you wrote in the previous task to test it."
   ]
  },
  {
   "cell_type": "markdown",
   "id": "ef631e58-9fe4-40e8-9425-fdd6bb313e1a",
   "metadata": {},
   "source": [
    "The next step for the <b>SQLRepository</b> class is to develop a method that enables us to store data. In SQL terms, this is known as <b>inserting</b> tables into the database."
   ]
  },
  {
   "cell_type": "markdown",
   "id": "9d96e21a-a904-4689-92be-40f860b2a6b1",
   "metadata": {},
   "source": [
    "### Write two tests for the SQLRepository class\n",
    "##### Implement an <b>insert_table</b> method within your SQLRepository class in data module, and run the cell below to validate that it functions correctly:<br> - Does the method return a dictionary?<br> - Are the keys of the dictionary accurate?"
   ]
  },
  {
   "cell_type": "code",
   "execution_count": 7,
   "id": "7749166c-72c0-40cd-9cde-b8dde4f3aea8",
   "metadata": {},
   "outputs": [
    {
     "data": {
      "text/plain": [
       "True"
      ]
     },
     "execution_count": 7,
     "metadata": {},
     "output_type": "execute_result"
    }
   ],
   "source": [
    "hasattr(df_suzlon, \"shape\")"
   ]
  },
  {
   "cell_type": "code",
   "execution_count": 8,
   "id": "4ad1f272-bfe0-4a1c-91fa-8006d141c90a",
   "metadata": {},
   "outputs": [],
   "source": [
    "response = repo.insert_table(table_name=ticker, records=df_suzlon, if_exists=\"replace\")\n",
    "\n",
    "# Does your method return a dictionary?\n",
    "assert isinstance(response, dict)\n",
    "\n",
    "# Are the keys of that dictionary correct?\n",
    "assert sorted(list(response.keys())) == [\"records_inserted\", \"transaction_successful\"]"
   ]
  },
  {
   "cell_type": "markdown",
   "id": "1815631e-bdc8-4858-b4d8-92569856d882",
   "metadata": {},
   "source": [
    "If the method passes the assert statements, it confirms that the transaction record is being returned correctly. However, we still need to verify that the data has been successfully added to the database."
   ]
  },
  {
   "cell_type": "markdown",
   "id": "22efc0af-fb7a-43bd-a977-cb774ece83bd",
   "metadata": {},
   "source": [
    "Write a SQL query to retrieve the first five rows from the Suzlon data table that was just added to the database."
   ]
  },
  {
   "cell_type": "code",
   "execution_count": 29,
   "id": "cf9d10db-591c-4b55-b7fd-8c6d0fdbb0cf",
   "metadata": {},
   "outputs": [
    {
     "name": "stdout",
     "output_type": "stream",
     "text": [
      "Connected to SQLite database successfully\n"
     ]
    }
   ],
   "source": [
    "# Connect to your SQLite database\n",
    "connection = sqlite3.connect(\"C:/Users/Jean Paul/Desktop/Mine/Data Science/Projects for Data Science/GitHub Pushes/Reusable Data Pipelines with AlphaVantageAPI and SQLRepository Using Test-Driven Development/stocks.sqlite\")\n",
    "print(\"Connected to SQLite database successfully\")"
   ]
  },
  {
   "cell_type": "code",
   "execution_count": null,
   "id": "0c15bb25-9f16-4c81-aac1-11a0bcdbe59e",
   "metadata": {},
   "outputs": [],
   "source": []
  },
  {
   "cell_type": "code",
   "execution_count": 30,
   "id": "aeb99f3c-227d-4fc1-adac-d7a3024327d9",
   "metadata": {},
   "outputs": [
    {
     "data": {
      "text/html": [
       "<div>\n",
       "<style scoped>\n",
       "    .dataframe tbody tr th:only-of-type {\n",
       "        vertical-align: middle;\n",
       "    }\n",
       "\n",
       "    .dataframe tbody tr th {\n",
       "        vertical-align: top;\n",
       "    }\n",
       "\n",
       "    .dataframe thead th {\n",
       "        text-align: right;\n",
       "    }\n",
       "</style>\n",
       "<table border=\"1\" class=\"dataframe\">\n",
       "  <thead>\n",
       "    <tr style=\"text-align: right;\">\n",
       "      <th></th>\n",
       "      <th>date</th>\n",
       "      <th>open</th>\n",
       "      <th>high</th>\n",
       "      <th>low</th>\n",
       "      <th>close</th>\n",
       "      <th>volume</th>\n",
       "    </tr>\n",
       "  </thead>\n",
       "  <tbody>\n",
       "    <tr>\n",
       "      <th>0</th>\n",
       "      <td>2025-01-24 00:00:00</td>\n",
       "      <td>54.99</td>\n",
       "      <td>54.99</td>\n",
       "      <td>52.13</td>\n",
       "      <td>52.56</td>\n",
       "      <td>9310880.0</td>\n",
       "    </tr>\n",
       "    <tr>\n",
       "      <th>1</th>\n",
       "      <td>2025-01-23 00:00:00</td>\n",
       "      <td>55.17</td>\n",
       "      <td>56.61</td>\n",
       "      <td>54.21</td>\n",
       "      <td>54.32</td>\n",
       "      <td>5161131.0</td>\n",
       "    </tr>\n",
       "    <tr>\n",
       "      <th>2</th>\n",
       "      <td>2025-01-22 00:00:00</td>\n",
       "      <td>57.18</td>\n",
       "      <td>57.86</td>\n",
       "      <td>54.58</td>\n",
       "      <td>55.15</td>\n",
       "      <td>5873424.0</td>\n",
       "    </tr>\n",
       "    <tr>\n",
       "      <th>3</th>\n",
       "      <td>2025-01-21 00:00:00</td>\n",
       "      <td>58.26</td>\n",
       "      <td>58.48</td>\n",
       "      <td>56.36</td>\n",
       "      <td>57.45</td>\n",
       "      <td>4473273.0</td>\n",
       "    </tr>\n",
       "    <tr>\n",
       "      <th>4</th>\n",
       "      <td>2025-01-20 00:00:00</td>\n",
       "      <td>57.84</td>\n",
       "      <td>58.76</td>\n",
       "      <td>56.15</td>\n",
       "      <td>58.13</td>\n",
       "      <td>3760910.0</td>\n",
       "    </tr>\n",
       "  </tbody>\n",
       "</table>\n",
       "</div>"
      ],
      "text/plain": [
       "                  date   open   high    low  close     volume\n",
       "0  2025-01-24 00:00:00  54.99  54.99  52.13  52.56  9310880.0\n",
       "1  2025-01-23 00:00:00  55.17  56.61  54.21  54.32  5161131.0\n",
       "2  2025-01-22 00:00:00  57.18  57.86  54.58  55.15  5873424.0\n",
       "3  2025-01-21 00:00:00  58.26  58.48  56.36  57.45  4473273.0\n",
       "4  2025-01-20 00:00:00  57.84  58.76  56.15  58.13  3760910.0"
      ]
     },
     "execution_count": 30,
     "metadata": {},
     "output_type": "execute_result"
    }
   ],
   "source": [
    "# Define your SQL query\n",
    "query = 'SELECT * FROM \"SUZLON.BSE\" LIMIT 5'\n",
    "\n",
    "# Execute the query and load results into a DataFrame\n",
    "df = pd.read_sql(query, connection)\n",
    "\n",
    "# Display the DataFrame\n",
    "df.head()\n",
    "\n",
    "# Close the connection\n",
    "#conn.close()\n"
   ]
  },
  {
   "cell_type": "markdown",
   "id": "f741386e-f041-4e9c-844a-0eb568ab6e2e",
   "metadata": {},
   "source": [
    "We can successfully insert data into our database, but it's equally important to focus on reading data from it. Since reading is a bit more complex than inserting, we’ll begin by drafting the necessary code in this notebook before integrating it into the SQLRepository class."
   ]
  },
  {
   "cell_type": "markdown",
   "id": "ba136763-0b91-4e8a-8244-f61bcde10d0f",
   "metadata": {},
   "source": [
    "First, we'll write a SQL query to retrieve all the Suzlon data. Then, we'll use pandas to fetch the data from the database and load it into a DataFrame named df_suzlon_test."
   ]
  },
  {
   "cell_type": "code",
   "execution_count": 36,
   "id": "935c5dde-072e-44e4-9f96-1734f33104f1",
   "metadata": {},
   "outputs": [
    {
     "name": "stdout",
     "output_type": "stream",
     "text": [
      "<class 'pandas.core.frame.DataFrame'>\n",
      "DatetimeIndex: 4750 entries, 2025-01-24 to 2005-10-20\n",
      "Data columns (total 5 columns):\n",
      " #   Column  Non-Null Count  Dtype  \n",
      "---  ------  --------------  -----  \n",
      " 0   open    4750 non-null   float64\n",
      " 1   high    4750 non-null   float64\n",
      " 2   low     4750 non-null   float64\n",
      " 3   close   4750 non-null   float64\n",
      " 4   volume  4750 non-null   float64\n",
      "dtypes: float64(5)\n",
      "memory usage: 222.7 KB\n",
      "None\n"
     ]
    },
    {
     "data": {
      "text/html": [
       "<div>\n",
       "<style scoped>\n",
       "    .dataframe tbody tr th:only-of-type {\n",
       "        vertical-align: middle;\n",
       "    }\n",
       "\n",
       "    .dataframe tbody tr th {\n",
       "        vertical-align: top;\n",
       "    }\n",
       "\n",
       "    .dataframe thead th {\n",
       "        text-align: right;\n",
       "    }\n",
       "</style>\n",
       "<table border=\"1\" class=\"dataframe\">\n",
       "  <thead>\n",
       "    <tr style=\"text-align: right;\">\n",
       "      <th></th>\n",
       "      <th>open</th>\n",
       "      <th>high</th>\n",
       "      <th>low</th>\n",
       "      <th>close</th>\n",
       "      <th>volume</th>\n",
       "    </tr>\n",
       "    <tr>\n",
       "      <th>date</th>\n",
       "      <th></th>\n",
       "      <th></th>\n",
       "      <th></th>\n",
       "      <th></th>\n",
       "      <th></th>\n",
       "    </tr>\n",
       "  </thead>\n",
       "  <tbody>\n",
       "    <tr>\n",
       "      <th>2025-01-24</th>\n",
       "      <td>54.99</td>\n",
       "      <td>54.99</td>\n",
       "      <td>52.13</td>\n",
       "      <td>52.56</td>\n",
       "      <td>9310880.0</td>\n",
       "    </tr>\n",
       "    <tr>\n",
       "      <th>2025-01-23</th>\n",
       "      <td>55.17</td>\n",
       "      <td>56.61</td>\n",
       "      <td>54.21</td>\n",
       "      <td>54.32</td>\n",
       "      <td>5161131.0</td>\n",
       "    </tr>\n",
       "    <tr>\n",
       "      <th>2025-01-22</th>\n",
       "      <td>57.18</td>\n",
       "      <td>57.86</td>\n",
       "      <td>54.58</td>\n",
       "      <td>55.15</td>\n",
       "      <td>5873424.0</td>\n",
       "    </tr>\n",
       "    <tr>\n",
       "      <th>2025-01-21</th>\n",
       "      <td>58.26</td>\n",
       "      <td>58.48</td>\n",
       "      <td>56.36</td>\n",
       "      <td>57.45</td>\n",
       "      <td>4473273.0</td>\n",
       "    </tr>\n",
       "    <tr>\n",
       "      <th>2025-01-20</th>\n",
       "      <td>57.84</td>\n",
       "      <td>58.76</td>\n",
       "      <td>56.15</td>\n",
       "      <td>58.13</td>\n",
       "      <td>3760910.0</td>\n",
       "    </tr>\n",
       "  </tbody>\n",
       "</table>\n",
       "</div>"
      ],
      "text/plain": [
       "             open   high    low  close     volume\n",
       "date                                             \n",
       "2025-01-24  54.99  54.99  52.13  52.56  9310880.0\n",
       "2025-01-23  55.17  56.61  54.21  54.32  5161131.0\n",
       "2025-01-22  57.18  57.86  54.58  55.15  5873424.0\n",
       "2025-01-21  58.26  58.48  56.36  57.45  4473273.0\n",
       "2025-01-20  57.84  58.76  56.15  58.13  3760910.0"
      ]
     },
     "execution_count": 36,
     "metadata": {},
     "output_type": "execute_result"
    }
   ],
   "source": [
    "# Define your SQL query\n",
    "query = \"SELECT * FROM 'SUZLON.BSE'\"\n",
    "\n",
    "df_suzlon_test = pd.read_sql(sql=query, con=connection, parse_dates=[\"date\"], index_col=\"date\")\n",
    "\n",
    "print(df_suzlon_test.info())\n",
    "df_suzlon_test.head()"
   ]
  },
  {
   "cell_type": "markdown",
   "id": "ba1d73a7-f59b-4d48-988d-83f371bb91c5",
   "metadata": {},
   "source": [
    "Now that we’ve learned how to read a table from our database, the next step is to transform our code into a well-structured function. However, since we’re following a backward design approach, we’ll begin by writing our tests first."
   ]
  },
  {
   "cell_type": "markdown",
   "id": "537358df-2586-4454-9a1b-ffc381f8008e",
   "metadata": {},
   "source": [
    "Below are the assert statements designed to validate the read_table function. Each comment outlines the specific check being performed:\n",
    "\n",
    "-Assign the output of the read_table function to the variable df_suzlon.\n",
    "\n",
    "-Verify that df_suzlon is a valid DataFrame.\n",
    "\n",
    "-Ensure the DataFrame uses a DatetimeIndex.\n",
    "\n",
    "-Confirm that the index is correctly labeled as \"date\".\n",
    "\n",
    "-Check that the DataFrame contains exactly 2,500 rows and 5 columns.\n",
    "\n",
    "-Validate that the column names are as expected.\n",
    "\n",
    "-Confirm that all column data types are correct."
   ]
  },
  {
   "cell_type": "code",
   "execution_count": 39,
   "id": "e88da3d8-1c20-48cc-a8c7-e0738620f63c",
   "metadata": {},
   "outputs": [
    {
     "name": "stdout",
     "output_type": "stream",
     "text": [
      "df_suzlon shape: (2500, 5)\n",
      "\n",
      "<class 'pandas.core.frame.DataFrame'>\n",
      "DatetimeIndex: 2500 entries, 2025-01-24 to 2014-12-15\n",
      "Data columns (total 5 columns):\n",
      " #   Column  Non-Null Count  Dtype  \n",
      "---  ------  --------------  -----  \n",
      " 0   open    2500 non-null   float64\n",
      " 1   high    2500 non-null   float64\n",
      " 2   low     2500 non-null   float64\n",
      " 3   close   2500 non-null   float64\n",
      " 4   volume  2500 non-null   float64\n",
      "dtypes: float64(5)\n",
      "memory usage: 117.2 KB\n",
      "None\n"
     ]
    },
    {
     "data": {
      "text/html": [
       "<div>\n",
       "<style scoped>\n",
       "    .dataframe tbody tr th:only-of-type {\n",
       "        vertical-align: middle;\n",
       "    }\n",
       "\n",
       "    .dataframe tbody tr th {\n",
       "        vertical-align: top;\n",
       "    }\n",
       "\n",
       "    .dataframe thead th {\n",
       "        text-align: right;\n",
       "    }\n",
       "</style>\n",
       "<table border=\"1\" class=\"dataframe\">\n",
       "  <thead>\n",
       "    <tr style=\"text-align: right;\">\n",
       "      <th></th>\n",
       "      <th>open</th>\n",
       "      <th>high</th>\n",
       "      <th>low</th>\n",
       "      <th>close</th>\n",
       "      <th>volume</th>\n",
       "    </tr>\n",
       "    <tr>\n",
       "      <th>date</th>\n",
       "      <th></th>\n",
       "      <th></th>\n",
       "      <th></th>\n",
       "      <th></th>\n",
       "      <th></th>\n",
       "    </tr>\n",
       "  </thead>\n",
       "  <tbody>\n",
       "    <tr>\n",
       "      <th>2025-01-24</th>\n",
       "      <td>54.99</td>\n",
       "      <td>54.99</td>\n",
       "      <td>52.13</td>\n",
       "      <td>52.56</td>\n",
       "      <td>9310880.0</td>\n",
       "    </tr>\n",
       "    <tr>\n",
       "      <th>2025-01-23</th>\n",
       "      <td>55.17</td>\n",
       "      <td>56.61</td>\n",
       "      <td>54.21</td>\n",
       "      <td>54.32</td>\n",
       "      <td>5161131.0</td>\n",
       "    </tr>\n",
       "    <tr>\n",
       "      <th>2025-01-22</th>\n",
       "      <td>57.18</td>\n",
       "      <td>57.86</td>\n",
       "      <td>54.58</td>\n",
       "      <td>55.15</td>\n",
       "      <td>5873424.0</td>\n",
       "    </tr>\n",
       "    <tr>\n",
       "      <th>2025-01-21</th>\n",
       "      <td>58.26</td>\n",
       "      <td>58.48</td>\n",
       "      <td>56.36</td>\n",
       "      <td>57.45</td>\n",
       "      <td>4473273.0</td>\n",
       "    </tr>\n",
       "    <tr>\n",
       "      <th>2025-01-20</th>\n",
       "      <td>57.84</td>\n",
       "      <td>58.76</td>\n",
       "      <td>56.15</td>\n",
       "      <td>58.13</td>\n",
       "      <td>3760910.0</td>\n",
       "    </tr>\n",
       "  </tbody>\n",
       "</table>\n",
       "</div>"
      ],
      "text/plain": [
       "             open   high    low  close     volume\n",
       "date                                             \n",
       "2025-01-24  54.99  54.99  52.13  52.56  9310880.0\n",
       "2025-01-23  55.17  56.61  54.21  54.32  5161131.0\n",
       "2025-01-22  57.18  57.86  54.58  55.15  5873424.0\n",
       "2025-01-21  58.26  58.48  56.36  57.45  4473273.0\n",
       "2025-01-20  57.84  58.76  56.15  58.13  3760910.0"
      ]
     },
     "execution_count": 39,
     "metadata": {},
     "output_type": "execute_result"
    }
   ],
   "source": [
    "# Assign `read_table` output to `df_suzlon`\n",
    "df_suzlon = read_table(table_name=\"SUZLON.BSE\", limit=2500)  # noQA F821\n",
    "\n",
    "# Is `df_suzlon` a DataFrame?\n",
    "assert isinstance(df_suzlon, pd.DataFrame)\n",
    "\n",
    "# Does it have a `DatetimeIndex`?\n",
    "assert isinstance(df_suzlon.index, pd.DatetimeIndex)\n",
    "\n",
    "# Is the index named \"date\"?\n",
    "assert df_suzlon.index.name == \"date\"\n",
    "\n",
    "# Does it have 2,500 rows and 5 columns?\n",
    "assert df_suzlon.shape == (2500, 5)\n",
    "\n",
    "# Are the column names correct?\n",
    "assert df_suzlon.columns.to_list() == ['open', 'high', 'low', 'close', 'volume']\n",
    "\n",
    "# Are the column data types correct?\n",
    "assert all(df_suzlon.dtypes == float)\n",
    "# OR assert all(df_suzlon.dtypes == \"float\")\n",
    "\n",
    "\n",
    "# Print `df_suzlon` info\n",
    "print(\"df_suzlon shape:\", df_suzlon.shape)\n",
    "print()\n",
    "print(df_suzlon.info())\n",
    "df_suzlon.head()"
   ]
  },
  {
   "cell_type": "markdown",
   "id": "57eb23ac-b78c-4451-bc8b-ab69ca827d6b",
   "metadata": {},
   "source": [
    "Build upon the code you've previously written to complete the read_table function outlined below. \n",
    ".Purpose: Reads a specific table from the database.\n",
    "\n",
    ".Parameters:\n",
    "\n",
    "   -table_name: The name of the table in the SQLite database to query.\n",
    "\n",
    "   -limit (optional): Specifies the number of most recent records to retrieve. If not provided, all records will be fetched.\n",
    "       \n",
    ".Returns:\n",
    "        \n",
    "   -A DataFrame with:\n",
    "\n",
    "     *A DatetimeIndex labeled \"date\".\n",
    "         \n",
    "     *Numeric columns: 'open', 'high', 'low', 'close', and 'volume'."
   ]
  },
  {
   "cell_type": "code",
   "execution_count": 38,
   "id": "ddcba499-bfc6-4487-a265-47384f7ba747",
   "metadata": {},
   "outputs": [],
   "source": [
    "def read_table(table_name, limit=None):\n",
    "\n",
    "    # Create SQL query (with optional limit)\n",
    "    if limit:\n",
    "        sql= f\"SELECT * FROM '{table_name}' LIMIT {limit}\"\n",
    "    else:\n",
    "        sql= f\"SELECT * FROM '{table_name}'\"\n",
    "\n",
    "    # Retrieve data, read into DataFrame\n",
    "    df = pd.read_sql(sql=sql, con=connection, parse_dates=[\"date\"], index_col=\"date\")\n",
    "\n",
    "    # Return DataFrame\n",
    "    return df"
   ]
  },
  {
   "cell_type": "markdown",
   "id": "1b1bd824-8e02-4cb8-8a7a-4dd352de9bf0",
   "metadata": {},
   "source": [
    "\n",
    "Convert the `read_table` function into a method within the `SQLRepository` class. Then, revisit the previous task and update the code to ensure you're testing the class method rather than the standalone function written in the notebook."
   ]
  },
  {
   "cell_type": "code",
   "execution_count": 40,
   "id": "5df9ae38-381f-48c7-8df7-5d05ffbde7dd",
   "metadata": {},
   "outputs": [
    {
     "name": "stdout",
     "output_type": "stream",
     "text": [
      "df_suzlon shape: (2500, 5)\n",
      "\n",
      "<class 'pandas.core.frame.DataFrame'>\n",
      "DatetimeIndex: 2500 entries, 2025-01-24 to 2014-12-15\n",
      "Data columns (total 5 columns):\n",
      " #   Column  Non-Null Count  Dtype  \n",
      "---  ------  --------------  -----  \n",
      " 0   open    2500 non-null   float64\n",
      " 1   high    2500 non-null   float64\n",
      " 2   low     2500 non-null   float64\n",
      " 3   close   2500 non-null   float64\n",
      " 4   volume  2500 non-null   float64\n",
      "dtypes: float64(5)\n",
      "memory usage: 117.2 KB\n",
      "None\n"
     ]
    },
    {
     "data": {
      "text/html": [
       "<div>\n",
       "<style scoped>\n",
       "    .dataframe tbody tr th:only-of-type {\n",
       "        vertical-align: middle;\n",
       "    }\n",
       "\n",
       "    .dataframe tbody tr th {\n",
       "        vertical-align: top;\n",
       "    }\n",
       "\n",
       "    .dataframe thead th {\n",
       "        text-align: right;\n",
       "    }\n",
       "</style>\n",
       "<table border=\"1\" class=\"dataframe\">\n",
       "  <thead>\n",
       "    <tr style=\"text-align: right;\">\n",
       "      <th></th>\n",
       "      <th>open</th>\n",
       "      <th>high</th>\n",
       "      <th>low</th>\n",
       "      <th>close</th>\n",
       "      <th>volume</th>\n",
       "    </tr>\n",
       "    <tr>\n",
       "      <th>date</th>\n",
       "      <th></th>\n",
       "      <th></th>\n",
       "      <th></th>\n",
       "      <th></th>\n",
       "      <th></th>\n",
       "    </tr>\n",
       "  </thead>\n",
       "  <tbody>\n",
       "    <tr>\n",
       "      <th>2025-01-24</th>\n",
       "      <td>54.99</td>\n",
       "      <td>54.99</td>\n",
       "      <td>52.13</td>\n",
       "      <td>52.56</td>\n",
       "      <td>9310880.0</td>\n",
       "    </tr>\n",
       "    <tr>\n",
       "      <th>2025-01-23</th>\n",
       "      <td>55.17</td>\n",
       "      <td>56.61</td>\n",
       "      <td>54.21</td>\n",
       "      <td>54.32</td>\n",
       "      <td>5161131.0</td>\n",
       "    </tr>\n",
       "    <tr>\n",
       "      <th>2025-01-22</th>\n",
       "      <td>57.18</td>\n",
       "      <td>57.86</td>\n",
       "      <td>54.58</td>\n",
       "      <td>55.15</td>\n",
       "      <td>5873424.0</td>\n",
       "    </tr>\n",
       "    <tr>\n",
       "      <th>2025-01-21</th>\n",
       "      <td>58.26</td>\n",
       "      <td>58.48</td>\n",
       "      <td>56.36</td>\n",
       "      <td>57.45</td>\n",
       "      <td>4473273.0</td>\n",
       "    </tr>\n",
       "    <tr>\n",
       "      <th>2025-01-20</th>\n",
       "      <td>57.84</td>\n",
       "      <td>58.76</td>\n",
       "      <td>56.15</td>\n",
       "      <td>58.13</td>\n",
       "      <td>3760910.0</td>\n",
       "    </tr>\n",
       "  </tbody>\n",
       "</table>\n",
       "</div>"
      ],
      "text/plain": [
       "             open   high    low  close     volume\n",
       "date                                             \n",
       "2025-01-24  54.99  54.99  52.13  52.56  9310880.0\n",
       "2025-01-23  55.17  56.61  54.21  54.32  5161131.0\n",
       "2025-01-22  57.18  57.86  54.58  55.15  5873424.0\n",
       "2025-01-21  58.26  58.48  56.36  57.45  4473273.0\n",
       "2025-01-20  57.84  58.76  56.15  58.13  3760910.0"
      ]
     },
     "execution_count": 40,
     "metadata": {},
     "output_type": "execute_result"
    }
   ],
   "source": [
    "# Assign `read_table` output to `df_suzlon`\n",
    "df_suzlon = repo.read_table(table_name=\"SUZLON.BSE\", limit=2500)\n",
    "\n",
    "# Validate the DataFrame\n",
    "assert isinstance(df_suzlon, pd.DataFrame)\n",
    "assert isinstance(df_suzlon.index, pd.DatetimeIndex)\n",
    "assert df_suzlon.index.name == \"date\"\n",
    "assert df_suzlon.shape == (2500, 5)\n",
    "assert df_suzlon.columns.to_list() == ['open', 'high', 'low', 'close', 'volume']\n",
    "assert all(df_suzlon.dtypes == float)\n",
    "\n",
    "# Print `df_suzlon` info\n",
    "print(\"df_suzlon shape:\", df_suzlon.shape)\n",
    "print()\n",
    "print(df_suzlon.info())\n",
    "df_suzlon.head()"
   ]
  },
  {
   "cell_type": "markdown",
   "id": "d1178031-4cb3-4095-8479-62bd41795695",
   "metadata": {},
   "source": [
    "Great! We've successfully set up everything needed to retrieve data from AlphaVantage, store it in our database, and retrieve it whenever required. Now, let's move on to some exploratory analysis to compare the stock performance of the two companies in our dataset."
   ]
  },
  {
   "cell_type": "markdown",
   "id": "a58821a9-193c-4a0a-821d-ccf9ac2287b0",
   "metadata": {},
   "source": [
    "## Comparing Stock Returns"
   ]
  },
  {
   "cell_type": "markdown",
   "id": "3c94043a-3844-4ada-a9db-778760591e8a",
   "metadata": {},
   "source": [
    "We currently have Suzlon Energy's data stored in our database, but to proceed with comparing the two stocks, we need to include the data for Ambuja Cement as well."
   ]
  },
  {
   "cell_type": "markdown",
   "id": "2c00e78d-43aa-4e0b-a1d4-1ecc5ee396f9",
   "metadata": {},
   "source": [
    "To proceed, use the instances of the **AlphaVantageAPI** (`av`) and **SQLRepository** (`repo`) classes that were set up earlier in this lesson. These tools will enable us to retrieve the stock data for **Ambuja Cement** directly from AlphaVantage and seamlessly store it in our database for future analysis."
   ]
  },
  {
   "cell_type": "code",
   "execution_count": 42,
   "id": "8e65e682-679e-4056-b836-423bce129d50",
   "metadata": {},
   "outputs": [
    {
     "data": {
      "text/plain": [
       "{'transaction_successful': True, 'records_inserted': 4942}"
      ]
     },
     "execution_count": 42,
     "metadata": {},
     "output_type": "execute_result"
    }
   ],
   "source": [
    "ticker = \"AMBUJACEM.BSE\"\n",
    "\n",
    "# Get Ambuja data using `av`\n",
    "ambuja_records = av.get_daily(ticker=ticker)\n",
    "\n",
    "# Insert `ambuja_records` database using `repo`\n",
    "response = repo.insert_table(table_name=ticker, records=ambuja_records, if_exists=\"replace\")\n",
    "\n",
    "response"
   ]
  },
  {
   "cell_type": "code",
   "execution_count": 43,
   "id": "92918e66-7cf8-43b3-a74b-fbc3f0d14f4f",
   "metadata": {},
   "outputs": [
    {
     "data": {
      "text/plain": [
       "(4942, 5)"
      ]
     },
     "execution_count": 43,
     "metadata": {},
     "output_type": "execute_result"
    }
   ],
   "source": [
    "ambuja_records.shape"
   ]
  },
  {
   "cell_type": "markdown",
   "id": "ffafc619-a454-43ad-bf46-b6eb2321162f",
   "metadata": {},
   "source": [
    "Let’s review the data to ensure it aligns with our requirements."
   ]
  },
  {
   "cell_type": "markdown",
   "id": "44ca0f15-8a7a-4ee0-8399-e0515e081289",
   "metadata": {},
   "source": [
    "**Insert Ambuja Data into Database**<br>\n",
    "Using the **read_table** method integrated into the **SQLRepository** class, retrieve the most recent 2,500 rows of data for **Ambuja Cement** from the database. Assign the resulting data to **df_ambuja** for further analysis."
   ]
  },
  {
   "cell_type": "code",
   "execution_count": 44,
   "id": "71eb1422-fd51-4933-b955-684bf621a0bb",
   "metadata": {},
   "outputs": [
    {
     "name": "stdout",
     "output_type": "stream",
     "text": [
      "df_ambuja type: <class 'pandas.core.frame.DataFrame'>\n",
      "df_ambuja shape: (2500, 5)\n"
     ]
    },
    {
     "data": {
      "text/html": [
       "<div>\n",
       "<style scoped>\n",
       "    .dataframe tbody tr th:only-of-type {\n",
       "        vertical-align: middle;\n",
       "    }\n",
       "\n",
       "    .dataframe tbody tr th {\n",
       "        vertical-align: top;\n",
       "    }\n",
       "\n",
       "    .dataframe thead th {\n",
       "        text-align: right;\n",
       "    }\n",
       "</style>\n",
       "<table border=\"1\" class=\"dataframe\">\n",
       "  <thead>\n",
       "    <tr style=\"text-align: right;\">\n",
       "      <th></th>\n",
       "      <th>open</th>\n",
       "      <th>high</th>\n",
       "      <th>low</th>\n",
       "      <th>close</th>\n",
       "      <th>volume</th>\n",
       "    </tr>\n",
       "    <tr>\n",
       "      <th>date</th>\n",
       "      <th></th>\n",
       "      <th></th>\n",
       "      <th></th>\n",
       "      <th></th>\n",
       "      <th></th>\n",
       "    </tr>\n",
       "  </thead>\n",
       "  <tbody>\n",
       "    <tr>\n",
       "      <th>2025-01-24</th>\n",
       "      <td>547.95</td>\n",
       "      <td>562.0</td>\n",
       "      <td>547.75</td>\n",
       "      <td>552.05</td>\n",
       "      <td>138842.0</td>\n",
       "    </tr>\n",
       "    <tr>\n",
       "      <th>2025-01-23</th>\n",
       "      <td>535.05</td>\n",
       "      <td>552.1</td>\n",
       "      <td>530.75</td>\n",
       "      <td>547.75</td>\n",
       "      <td>115606.0</td>\n",
       "    </tr>\n",
       "    <tr>\n",
       "      <th>2025-01-22</th>\n",
       "      <td>534.55</td>\n",
       "      <td>538.6</td>\n",
       "      <td>527.00</td>\n",
       "      <td>537.05</td>\n",
       "      <td>33196.0</td>\n",
       "    </tr>\n",
       "    <tr>\n",
       "      <th>2025-01-21</th>\n",
       "      <td>536.95</td>\n",
       "      <td>548.5</td>\n",
       "      <td>530.55</td>\n",
       "      <td>531.60</td>\n",
       "      <td>41152.0</td>\n",
       "    </tr>\n",
       "    <tr>\n",
       "      <th>2025-01-20</th>\n",
       "      <td>537.40</td>\n",
       "      <td>539.0</td>\n",
       "      <td>530.10</td>\n",
       "      <td>534.45</td>\n",
       "      <td>18346.0</td>\n",
       "    </tr>\n",
       "  </tbody>\n",
       "</table>\n",
       "</div>"
      ],
      "text/plain": [
       "              open   high     low   close    volume\n",
       "date                                               \n",
       "2025-01-24  547.95  562.0  547.75  552.05  138842.0\n",
       "2025-01-23  535.05  552.1  530.75  547.75  115606.0\n",
       "2025-01-22  534.55  538.6  527.00  537.05   33196.0\n",
       "2025-01-21  536.95  548.5  530.55  531.60   41152.0\n",
       "2025-01-20  537.40  539.0  530.10  534.45   18346.0"
      ]
     },
     "execution_count": 44,
     "metadata": {},
     "output_type": "execute_result"
    }
   ],
   "source": [
    "ticker = \"AMBUJACEM.BSE\"\n",
    "df_ambuja = repo.read_table(table_name=ticker, limit=2500)\n",
    "\n",
    "print(\"df_ambuja type:\", type(df_ambuja))\n",
    "print(\"df_ambuja shape:\", df_ambuja.shape)\n",
    "df_ambuja.head()"
   ]
  },
  {
   "cell_type": "markdown",
   "id": "3bb967c3-7756-4da5-b83e-cb2d98af694a",
   "metadata": {},
   "source": [
    "We've spent a lot of time so far looking at this data, but what does it actually represent? It turns out the stock market is a lot like any other market: people buy and sell goods. The prices of those goods can go up or down depending on factors like supply and demand. In the case of a stock market, the goods being sold are stocks (also called equities or securities), which represent an ownership stake in a corporation.\n",
    "\n",
    "During each trading day, the price of a stock will change, so when we're looking at whether a stock might be a good investment, we look at four types of numbers: open, high, low, close, volume. **Open** is exactly what it sounds like: the selling price of a share when the market opens for the day. Similarly, **close** is the selling price of a share when the market closes at the end of the day, and **high** and **low** are the respective maximum and minimum prices of a share over the course of the day. **Volume** is the number of shares of a given stock that have been bought and sold that day. Generally speaking, a firm whose shares have seen a high volume of trading will see more price variation of the course of the day than a firm whose shares have been more lightly traded.\n",
    "\n",
    "Let's visualize how the price of Ambuja Cement changes over the last decade."
   ]
  },
  {
   "cell_type": "markdown",
   "id": "d5c5f0b3-3d1a-4ff1-8f05-bc6983507483",
   "metadata": {},
   "source": [
    "Visualize the closing price from **df_ambuja** by creating a plot. Ensure the chart includes clearly labeled axes"
   ]
  },
  {
   "cell_type": "markdown",
   "id": "62a9bf4a-d406-47c3-8431-0cc27c8371d3",
   "metadata": {},
   "source": [
    "**Plot Ambuja Closing Price**"
   ]
  },
  {
   "cell_type": "code",
   "execution_count": 46,
   "id": "1c382f33-b43d-4e87-8cf2-b934d03ec5bb",
   "metadata": {},
   "outputs": [
    {
     "data": {
      "image/png": "[encoded data removed]",
      "text/plain": [
       "<Figure size 1500x600 with 1 Axes>"
      ]
     },
     "metadata": {},
     "output_type": "display_data"
    }
   ],
   "source": [
    "fig, ax = plt.subplots(figsize=(15, 6))\n",
    "# Plot `df_ambuja` closing price\n",
    "df_ambuja[\"close\"].plot(ax=ax, label=\"AMBUJACEM\", color=\"orange\") # or color=\"C1\"\n",
    "\n",
    "\n",
    "# Label axes\n",
    "plt.xlabel(\"Date\")\n",
    "plt.ylabel(\"Closing Price\")\n",
    "\n",
    "# Add legend\n",
    "plt.legend();"
   ]
  },
  {
   "cell_type": "markdown",
   "id": "8b8c5bce-a7b3-46ed-b530-2658174147ce",
   "metadata": {},
   "source": [
    "Let's add the closing price of Suzlon to our graph so we can compare the two."
   ]
  },
  {
   "cell_type": "markdown",
   "id": "11fe18be-e54c-40fa-a79f-ad67c167a582",
   "metadata": {},
   "source": [
    " Create a plot that shows the closing prices of **df_suzlon** and **df_ambuja**. Again, label your axes and include a legend."
   ]
  },
  {
   "cell_type": "code",
   "execution_count": 47,
   "id": "109ecbbc-c430-4d02-8a11-d272f6a448cb",
   "metadata": {},
   "outputs": [
    {
     "data": {
      "image/png": "[encoded data removed]",
      "text/plain": [
       "<Figure size 1500x600 with 1 Axes>"
      ]
     },
     "metadata": {},
     "output_type": "display_data"
    }
   ],
   "source": [
    "fig, ax = plt.subplots(figsize=(15, 6))\n",
    "# Plot `df_suzlon` and `df_ambuja`\n",
    "df_suzlon[\"close\"].plot(ax=ax, label=\"SUZLON\") # or color=\"C0 by default\"\n",
    "df_ambuja[\"close\"].plot(ax=ax, label=\"AMBUJACEM\", color=\"orange\")\n",
    "\n",
    "# Label axes\n",
    "plt.xlabel(\"Date\")\n",
    "plt.ylabel(\"Closing Price\")\n",
    "\n",
    "# Add legend\n",
    "plt.legend();"
   ]
  },
  {
   "cell_type": "markdown",
   "id": "a253e6c5-1dfc-47e5-b94d-e231d5de5a98",
   "metadata": {},
   "source": [
    "Looking at this plot, we might conclude that Ambuja Cement is a \"better\" stock than Suzlon energy because its price is higher. But price is just one factor that an investor must consider when creating an investment strategy. What is definitely true is that it's hard to do a head-to-head comparison of these two stocks because there's such a large price difference.\n",
    "\n",
    "One way in which investors compare stocks is by looking at their **returns** instead. A return is the change in value in an investment, represented as a percentage. So let's look at the daily returns for our two stocks."
   ]
  },
  {
   "cell_type": "markdown",
   "id": "99ab3b27-2e5e-455a-8286-fdbd03d751d7",
   "metadata": {},
   "source": [
    "Enhance **df_ambuja** by adding a new column called **\"return\"**, which calculates the daily percentage change in the **\"close\"** column. This will allow us to track how the closing price fluctuates from one day to the next, providing key insights into the stock's performance."
   ]
  },
  {
   "cell_type": "markdown",
   "id": "44526db4-f08c-4cce-9aad-cbf3905d5d1a",
   "metadata": {},
   "source": [
    "<div class=\"alert alert-info\" role=\"alert\">\n",
    "    <p><b>Tip:</b> Our two DataFrames are sorted <b>descending</b> by date, but you'll need to make sure they're sorted <b>ascending</b> in order to calculate their returns.</p>\n",
    "</div>"
   ]
  },
  {
   "cell_type": "code",
   "execution_count": 48,
   "id": "0422f339-b147-4534-a30c-4ef6c80b3ccb",
   "metadata": {},
   "outputs": [
    {
     "name": "stdout",
     "output_type": "stream",
     "text": [
      "df_ambuja shape: (2500, 6)\n"
     ]
    },
    {
     "data": {
      "text/html": [
       "<div>\n",
       "<style scoped>\n",
       "    .dataframe tbody tr th:only-of-type {\n",
       "        vertical-align: middle;\n",
       "    }\n",
       "\n",
       "    .dataframe tbody tr th {\n",
       "        vertical-align: top;\n",
       "    }\n",
       "\n",
       "    .dataframe thead th {\n",
       "        text-align: right;\n",
       "    }\n",
       "</style>\n",
       "<table border=\"1\" class=\"dataframe\">\n",
       "  <thead>\n",
       "    <tr style=\"text-align: right;\">\n",
       "      <th></th>\n",
       "      <th>open</th>\n",
       "      <th>high</th>\n",
       "      <th>low</th>\n",
       "      <th>close</th>\n",
       "      <th>volume</th>\n",
       "      <th>return</th>\n",
       "    </tr>\n",
       "    <tr>\n",
       "      <th>date</th>\n",
       "      <th></th>\n",
       "      <th></th>\n",
       "      <th></th>\n",
       "      <th></th>\n",
       "      <th></th>\n",
       "      <th></th>\n",
       "    </tr>\n",
       "  </thead>\n",
       "  <tbody>\n",
       "    <tr>\n",
       "      <th>2014-12-03</th>\n",
       "      <td>228.60</td>\n",
       "      <td>230.95</td>\n",
       "      <td>227.05</td>\n",
       "      <td>229.45</td>\n",
       "      <td>79452.0</td>\n",
       "      <td>NaN</td>\n",
       "    </tr>\n",
       "    <tr>\n",
       "      <th>2014-12-04</th>\n",
       "      <td>230.90</td>\n",
       "      <td>231.15</td>\n",
       "      <td>227.35</td>\n",
       "      <td>229.95</td>\n",
       "      <td>117157.0</td>\n",
       "      <td>0.217912</td>\n",
       "    </tr>\n",
       "    <tr>\n",
       "      <th>2014-12-05</th>\n",
       "      <td>227.00</td>\n",
       "      <td>237.70</td>\n",
       "      <td>227.00</td>\n",
       "      <td>236.95</td>\n",
       "      <td>217721.0</td>\n",
       "      <td>3.044140</td>\n",
       "    </tr>\n",
       "    <tr>\n",
       "      <th>2014-12-08</th>\n",
       "      <td>239.00</td>\n",
       "      <td>239.75</td>\n",
       "      <td>215.00</td>\n",
       "      <td>231.25</td>\n",
       "      <td>246418.0</td>\n",
       "      <td>-2.405571</td>\n",
       "    </tr>\n",
       "    <tr>\n",
       "      <th>2014-12-09</th>\n",
       "      <td>230.85</td>\n",
       "      <td>231.05</td>\n",
       "      <td>225.00</td>\n",
       "      <td>226.05</td>\n",
       "      <td>137064.0</td>\n",
       "      <td>-2.248649</td>\n",
       "    </tr>\n",
       "  </tbody>\n",
       "</table>\n",
       "</div>"
      ],
      "text/plain": [
       "              open    high     low   close    volume    return\n",
       "date                                                          \n",
       "2014-12-03  228.60  230.95  227.05  229.45   79452.0       NaN\n",
       "2014-12-04  230.90  231.15  227.35  229.95  117157.0  0.217912\n",
       "2014-12-05  227.00  237.70  227.00  236.95  217721.0  3.044140\n",
       "2014-12-08  239.00  239.75  215.00  231.25  246418.0 -2.405571\n",
       "2014-12-09  230.85  231.05  225.00  226.05  137064.0 -2.248649"
      ]
     },
     "execution_count": 48,
     "metadata": {},
     "output_type": "execute_result"
    }
   ],
   "source": [
    "# Sort DataFrame ascending by date\n",
    "df_ambuja.sort_index(ascending=True, inplace=True)\n",
    "\n",
    "# Create \"return\" column\n",
    "df_ambuja[\"return\"]= df_ambuja[\"close\"].pct_change() * 100\n",
    "\n",
    "print(\"df_ambuja shape:\", df_ambuja.shape)\n",
    "df_ambuja.head()"
   ]
  },
  {
   "cell_type": "markdown",
   "id": "4a7c4e1b-400f-4c33-b239-6f4b6ac4a67b",
   "metadata": {},
   "source": [
    "Add a **\"return\"** column to **df_suzlon**, which will calculate the daily percentage change in the **\"close\"** column. This will help us understand how the stock price of Suzlon Energy changes on a day-to-day basis."
   ]
  },
  {
   "cell_type": "code",
   "execution_count": 49,
   "id": "a81430ee-93fa-4a09-9866-ed7373a8dab3",
   "metadata": {},
   "outputs": [
    {
     "name": "stdout",
     "output_type": "stream",
     "text": [
      "df_suzlon shape: (2500, 6)\n"
     ]
    },
    {
     "data": {
      "text/html": [
       "<div>\n",
       "<style scoped>\n",
       "    .dataframe tbody tr th:only-of-type {\n",
       "        vertical-align: middle;\n",
       "    }\n",
       "\n",
       "    .dataframe tbody tr th {\n",
       "        vertical-align: top;\n",
       "    }\n",
       "\n",
       "    .dataframe thead th {\n",
       "        text-align: right;\n",
       "    }\n",
       "</style>\n",
       "<table border=\"1\" class=\"dataframe\">\n",
       "  <thead>\n",
       "    <tr style=\"text-align: right;\">\n",
       "      <th></th>\n",
       "      <th>open</th>\n",
       "      <th>high</th>\n",
       "      <th>low</th>\n",
       "      <th>close</th>\n",
       "      <th>volume</th>\n",
       "      <th>return</th>\n",
       "    </tr>\n",
       "    <tr>\n",
       "      <th>date</th>\n",
       "      <th></th>\n",
       "      <th></th>\n",
       "      <th></th>\n",
       "      <th></th>\n",
       "      <th></th>\n",
       "      <th></th>\n",
       "    </tr>\n",
       "  </thead>\n",
       "  <tbody>\n",
       "    <tr>\n",
       "      <th>2014-12-15</th>\n",
       "      <td>13.28</td>\n",
       "      <td>13.65</td>\n",
       "      <td>13.05</td>\n",
       "      <td>13.15</td>\n",
       "      <td>2810563.0</td>\n",
       "      <td>NaN</td>\n",
       "    </tr>\n",
       "    <tr>\n",
       "      <th>2014-12-16</th>\n",
       "      <td>13.05</td>\n",
       "      <td>13.50</td>\n",
       "      <td>12.15</td>\n",
       "      <td>12.93</td>\n",
       "      <td>5586065.0</td>\n",
       "      <td>-1.673004</td>\n",
       "    </tr>\n",
       "    <tr>\n",
       "      <th>2014-12-17</th>\n",
       "      <td>12.94</td>\n",
       "      <td>13.07</td>\n",
       "      <td>12.30</td>\n",
       "      <td>12.48</td>\n",
       "      <td>3832723.0</td>\n",
       "      <td>-3.480278</td>\n",
       "    </tr>\n",
       "    <tr>\n",
       "      <th>2014-12-18</th>\n",
       "      <td>12.70</td>\n",
       "      <td>13.30</td>\n",
       "      <td>12.70</td>\n",
       "      <td>12.98</td>\n",
       "      <td>2738284.0</td>\n",
       "      <td>4.006410</td>\n",
       "    </tr>\n",
       "    <tr>\n",
       "      <th>2014-12-19</th>\n",
       "      <td>13.20</td>\n",
       "      <td>13.39</td>\n",
       "      <td>12.52</td>\n",
       "      <td>12.77</td>\n",
       "      <td>3144133.0</td>\n",
       "      <td>-1.617874</td>\n",
       "    </tr>\n",
       "  </tbody>\n",
       "</table>\n",
       "</div>"
      ],
      "text/plain": [
       "             open   high    low  close     volume    return\n",
       "date                                                       \n",
       "2014-12-15  13.28  13.65  13.05  13.15  2810563.0       NaN\n",
       "2014-12-16  13.05  13.50  12.15  12.93  5586065.0 -1.673004\n",
       "2014-12-17  12.94  13.07  12.30  12.48  3832723.0 -3.480278\n",
       "2014-12-18  12.70  13.30  12.70  12.98  2738284.0  4.006410\n",
       "2014-12-19  13.20  13.39  12.52  12.77  3144133.0 -1.617874"
      ]
     },
     "execution_count": 49,
     "metadata": {},
     "output_type": "execute_result"
    }
   ],
   "source": [
    "# Sort DataFrame ascending by date\n",
    "df_suzlon.sort_index(ascending=True, inplace=True)\n",
    "\n",
    "# Create \"return\" column\n",
    "df_suzlon[\"return\"]= df_suzlon[\"close\"].pct_change() * 100\n",
    "\n",
    "print(\"df_suzlon shape:\", df_suzlon.shape)\n",
    "df_suzlon.head()"
   ]
  },
  {
   "cell_type": "markdown",
   "id": "3cb5f724-23b0-4572-9636-4f7e885dba56",
   "metadata": {},
   "source": [
    "Let's now visualize the returns for both companies and compare their performance."
   ]
  },
  {
   "cell_type": "markdown",
   "id": "7a43c150-781c-49e8-bc42-986c5a73d1e2",
   "metadata": {},
   "source": [
    "**Compare Ambuja and Suzlon Returns**"
   ]
  },
  {
   "cell_type": "code",
   "execution_count": null,
   "id": "08861b8b-795b-4c69-9584-e4c2ecd863ab",
   "metadata": {},
   "outputs": [],
   "source": [
    "fig, ax = plt.subplots(figsize=(15, 6))\n",
    "# Plot returns for `df_suzlon` and `df_ambuja`\n",
    "df_suzlon[\"return\"].plot(ax=ax, label=\"SUZLON\") \n",
    "df_ambuja[\"return\"].plot(ax=ax, label=\"AMBUJACEM\", color=\"C1\")\n",
    "\n",
    "# Label axes\n",
    "plt.xlabel(\"Date\")\n",
    "plt.ylabel(\"Daily Return\")\n",
    "\n",
    "# Add legend\n",
    "plt.legend();"
   ]
  },
  {
   "cell_type": "markdown",
   "id": "49d3e94f-c30f-4e11-ad7c-75dc34ecc9f5",
   "metadata": {},
   "source": [
    "Success! By representing returns as a percentage, we're able to compare two stocks that have very different prices. But what is this visualization telling us? We can see that the returns for Suzlon have a wider spread. We see big gains and big losses. In contrast, the spread for Ambuja is narrower, meaning that the price doesn't fluctuate as much. \n",
    "\n",
    "Another name for this day-to-day fluctuation in returns is called [**volatility**](https://en.wikipedia.org/wiki/Volatility_(finance)), which is another important factor for investors. "
   ]
  },
  {
   "cell_type": "code",
   "execution_count": null,
   "id": "8154a2bc-5ff4-42b5-a352-9a60977d1a94",
   "metadata": {},
   "outputs": [],
   "source": []
  }
 ],
 "metadata": {
  "kernelspec": {
   "display_name": "Python 3 (ipykernel)",
   "language": "python",
   "name": "python3"
  },
  "language_info": {
   "codemirror_mode": {
    "name": "ipython",
    "version": 3
   },
   "file_extension": ".py",
   "mimetype": "text/x-python",
   "name": "python",
   "nbconvert_exporter": "python",
   "pygments_lexer": "ipython3",
   "version": "3.12.4"
  }
 },
 "nbformat": 4,
 "nbformat_minor": 5
}
